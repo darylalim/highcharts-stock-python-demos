{
 "cells": [
  {
   "cell_type": "markdown",
   "id": "a518f4fc-72a6-40ba-a109-b1ba91640e44",
   "metadata": {},
   "source": [
    "# Area spline range\n",
    "Renders an area spline range chart of temperature variation by day for a given period of time."
   ]
  },
  {
   "cell_type": "markdown",
   "id": "896b9416-fd0b-4d57-8048-1ede94014c7e",
   "metadata": {},
   "source": [
    "## Import Dependencies"
   ]
  },
  {
   "cell_type": "code",
   "execution_count": null,
   "id": "c6f4b449-9437-4eb9-98fb-99c8e3141f62",
   "metadata": {
    "tags": []
   },
   "outputs": [],
   "source": [
    "from highcharts_stock.chart import Chart\n",
    "from highcharts_stock.options.series.area import AreaSplineRangeSeries\n",
    "import requests"
   ]
  },
  {
   "cell_type": "markdown",
   "id": "1ec75703-f9f8-4c54-bdac-5e027780e9f3",
   "metadata": {},
   "source": [
    "## Retrieve Data"
   ]
  },
  {
   "cell_type": "code",
   "execution_count": null,
   "id": "cb492896-d889-4908-98ab-b33dd0ddcf87",
   "metadata": {
    "tags": []
   },
   "outputs": [],
   "source": [
    "temp_response = requests.get('https://cdn.jsdelivr.net/gh/highcharts/highcharts@d2270f7c/samples/data/temp-range.json')\n",
    "temp_data = temp_response.text"
   ]
  },
  {
   "cell_type": "markdown",
   "id": "e0fc56b4-47aa-453f-8c08-2550383b359a",
   "metadata": {},
   "source": [
    "## Configure Options"
   ]
  },
  {
   "cell_type": "code",
   "execution_count": null,
   "id": "a2bd4550-d823-484f-93bc-1daad7ee1e85",
   "metadata": {
    "tags": []
   },
   "outputs": [],
   "source": [
    "options_as_dict = {\n",
    "    'chart': {\n",
    "        'type': 'areasplinerange'\n",
    "    },\n",
    "\n",
    "    'range_selector': {\n",
    "        'selected': 2\n",
    "    },\n",
    "\n",
    "    'title': {\n",
    "        'text': 'Temperature variation by day'\n",
    "    },\n",
    "\n",
    "    'tooltip': {\n",
    "        'value_suffix': '°C'\n",
    "    },\n",
    "\n",
    "    'navigator': {\n",
    "        'enabled': True\n",
    "    },\n",
    "\n",
    "    'series': [\n",
    "        {\n",
    "            'name': 'Temperatures',\n",
    "            'data': temp_data\n",
    "        }\n",
    "    ]\n",
    "}"
   ]
  },
  {
   "cell_type": "markdown",
   "id": "57eb864d-43ae-4c6a-8b80-66d8812e8899",
   "metadata": {},
   "source": [
    "## Assemble Chart and Options"
   ]
  },
  {
   "cell_type": "code",
   "execution_count": null,
   "id": "7d78682a-e1fb-496b-87f5-af5f02e9a1d3",
   "metadata": {},
   "outputs": [],
   "source": [
    "chart = Chart.from_options(options_as_dict)"
   ]
  },
  {
   "cell_type": "markdown",
   "id": "263de9c5-d48a-4090-b53b-87cf8befb83a",
   "metadata": {},
   "source": [
    "## Render Visualization"
   ]
  },
  {
   "cell_type": "code",
   "execution_count": null,
   "id": "814e9ed9-e70d-4891-8048-e75a86e55c82",
   "metadata": {
    "tags": []
   },
   "outputs": [],
   "source": [
    "chart.display()"
   ]
  },
  {
   "cell_type": "code",
   "execution_count": null,
   "id": "25abb79d-ca39-4e32-91c5-e176dbffe846",
   "metadata": {},
   "outputs": [],
   "source": []
  }
 ],
 "metadata": {
  "kernelspec": {
   "display_name": "Python 3 (ipykernel)",
   "language": "python",
   "name": "python3"
  },
  "language_info": {
   "codemirror_mode": {
    "name": "ipython",
    "version": 3
   },
   "file_extension": ".py",
   "mimetype": "text/x-python",
   "name": "python",
   "nbconvert_exporter": "python",
   "pygments_lexer": "ipython3",
   "version": "3.11.9"
  }
 },
 "nbformat": 4,
 "nbformat_minor": 5
}
