{
 "cells": [
  {
   "cell_type": "markdown",
   "id": "3d033821-eebd-4e56-8d75-1640001f6451",
   "metadata": {},
   "source": [
    "# Stock chart with GUI\n",
    "Demonstrating a Highcharts Stock chart with the **Stock Tools** GUI included."
   ]
  },
  {
   "cell_type": "markdown",
   "id": "19324d42-e2dd-41a3-a12f-ca8fbceda5ec",
   "metadata": {},
   "source": [
    "## Import Dependencies"
   ]
  },
  {
   "cell_type": "code",
   "execution_count": null,
   "id": "9962170c-4f90-41f7-873e-0599ab54c046",
   "metadata": {
    "tags": []
   },
   "outputs": [],
   "source": [
    "from highcharts_stock.chart import Chart\n",
    "from highcharts_stock.constants import EnforcedNull\n",
    "import requests\n",
    "import json"
   ]
  },
  {
   "cell_type": "markdown",
   "id": "4ada7fc5-24c6-42b3-a930-6b1703ed983d",
   "metadata": {},
   "source": [
    "## Retrieve Data"
   ]
  },
  {
   "cell_type": "code",
   "execution_count": null,
   "id": "31f051b1-06e4-4f6d-b20e-b4ae547d58e2",
   "metadata": {},
   "outputs": [],
   "source": [
    "response = requests.get('https://demo-live-data.highcharts.com/aapl-ohlcv.json')\n",
    "data = response.text"
   ]
  },
  {
   "cell_type": "markdown",
   "id": "131fd3c7-bacc-4bfb-ae09-d5800a7be170",
   "metadata": {},
   "source": [
    "## Prepare Data"
   ]
  },
  {
   "cell_type": "code",
   "execution_count": null,
   "id": "3c274c54-ddde-40de-b650-b7a5a001ab77",
   "metadata": {
    "tags": []
   },
   "outputs": [],
   "source": [
    "ohlc = []\n",
    "volume = []\n",
    "\n",
    "as_list = json.loads(data)\n",
    "\n",
    "for record in as_list:\n",
    "    ohlc.append(\n",
    "        (record[0],\n",
    "         record[1],\n",
    "         record[2],\n",
    "         record[3],\n",
    "         record[4]\n",
    "        )\n",
    "    )\n",
    "    volume.append(\n",
    "        (record[0],\n",
    "         record[5]\n",
    "        )\n",
    "    )"
   ]
  },
  {
   "cell_type": "markdown",
   "id": "089b8f43-ea01-4753-a52f-bfd1e23d948d",
   "metadata": {},
   "source": [
    "## Configure Options"
   ]
  },
  {
   "cell_type": "code",
   "execution_count": null,
   "id": "e8f030f9-6f9c-445b-b0f5-9f6b2118c865",
   "metadata": {
    "tags": []
   },
   "outputs": [],
   "source": [
    "options = {\n",
    "    'yAxis': [{\n",
    "        'labels': {\n",
    "            'align': 'left'\n",
    "        },\n",
    "        'height': '80%',\n",
    "        'resize': {\n",
    "            'enabled': True\n",
    "        }\n",
    "    }, {\n",
    "        'labels': {\n",
    "            'align': 'left'\n",
    "        },\n",
    "        'top': '80%',\n",
    "        'height': '20%',\n",
    "        'offset': 0\n",
    "    }],\n",
    "    'tooltip': {\n",
    "        'shape': 'rect',\n",
    "        'headerShape': 'callout',\n",
    "        'borderWidth': 0,\n",
    "        'shadow': False,\n",
    "        'fixed': True\n",
    "    },\n",
    "\n",
    "    'responsive': {\n",
    "        'rules': [{\n",
    "            'condition': {\n",
    "                'maxWidth': 800\n",
    "            },\n",
    "            'chartOptions': {\n",
    "                'rangeSelector': {\n",
    "                    'inputEnabled': False\n",
    "                }\n",
    "            }\n",
    "        }]\n",
    "    },\n",
    "    \n",
    "    'stockTools': {\n",
    "        'gui': {\n",
    "            'enabled': True\n",
    "        }\n",
    "    }\n",
    "}"
   ]
  },
  {
   "cell_type": "markdown",
   "id": "b06bf4c1-988c-49de-994e-96d6948a440e",
   "metadata": {},
   "source": [
    "## Assemble Chart and Options"
   ]
  },
  {
   "cell_type": "code",
   "execution_count": null,
   "id": "57aa98fa-be9a-462c-8b07-eb2e97de4f13",
   "metadata": {
    "tags": []
   },
   "outputs": [],
   "source": [
    "chart = Chart.from_options(options)\n",
    "chart.is_stock_chart = True"
   ]
  },
  {
   "cell_type": "markdown",
   "id": "f72580e7-8785-4874-97ff-672104019005",
   "metadata": {},
   "source": [
    "## Add Series"
   ]
  },
  {
   "cell_type": "code",
   "execution_count": null,
   "id": "41fb626c-3da4-4b32-b53a-1b93b0909751",
   "metadata": {
    "tags": []
   },
   "outputs": [],
   "source": [
    "chart.add_series(\n",
    "    {\n",
    "        'type': 'ohlc',\n",
    "        'id': 'aapl-ohlc',\n",
    "        'name': 'AAPL Stock Price',\n",
    "        'data': ohlc\n",
    "    }\n",
    ")\n",
    "\n",
    "chart.add_series(\n",
    "    {\n",
    "        'type': 'column',\n",
    "        'id': 'aapl-volume',\n",
    "        'name': 'AAPL Volume',\n",
    "        'data': volume,\n",
    "        'yAxis': 1\n",
    "    }\n",
    ")"
   ]
  },
  {
   "cell_type": "markdown",
   "id": "8e558de2-ec54-456f-b223-98c1dde8d19f",
   "metadata": {},
   "source": [
    "## Render Visualization"
   ]
  },
  {
   "cell_type": "code",
   "execution_count": null,
   "id": "17bed092-879b-41c2-a47f-b74ff25ba12e",
   "metadata": {
    "tags": []
   },
   "outputs": [],
   "source": [
    "chart.display()"
   ]
  },
  {
   "cell_type": "code",
   "execution_count": null,
   "id": "80d5248d-bd84-4d11-9b96-1e990d46d0db",
   "metadata": {},
   "outputs": [],
   "source": []
  }
 ],
 "metadata": {
  "kernelspec": {
   "display_name": "Python 3 (ipykernel)",
   "language": "python",
   "name": "python3"
  },
  "language_info": {
   "codemirror_mode": {
    "name": "ipython",
    "version": 3
   },
   "file_extension": ".py",
   "mimetype": "text/x-python",
   "name": "python",
   "nbconvert_exporter": "python",
   "pygments_lexer": "ipython3",
   "version": "3.11.9"
  }
 },
 "nbformat": 4,
 "nbformat_minor": 5
}
